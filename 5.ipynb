{
 "cells": [
  {
   "cell_type": "code",
   "execution_count": 1,
   "metadata": {},
   "outputs": [],
   "source": [
    "import numpy as np\n",
    "import pandas as pd\n",
    "from time import time\n",
    "from IPython.display import display # Allows the use of display() for DataFrames\n",
    "\n",
    "# Import supplementary visualization code visuals.py\n",
    "import visuals as vs\n",
    "\n",
    "# Pretty display for notebooks\n",
    "%matplotlib inline"
   ]
  },
  {
   "cell_type": "code",
   "execution_count": 2,
   "metadata": {},
   "outputs": [],
   "source": [
    "# Load the Census dataset\n",
    "data = pd.read_csv(\"census.csv\")"
   ]
  },
  {
   "cell_type": "code",
   "execution_count": 3,
   "metadata": {},
   "outputs": [],
   "source": [
    "# Split the data into features and target label\n",
    "income_raw = data['income']\n",
    "features_raw = data.drop('income', axis = 1)"
   ]
  },
  {
   "cell_type": "code",
   "execution_count": 4,
   "metadata": {},
   "outputs": [],
   "source": [
    "skewed = ['capital-gain', 'capital-loss']\n",
    "features_log_transformed = pd.DataFrame(data = features_raw)\n",
    "features_log_transformed[skewed] = features_raw[skewed].apply(lambda x: np.log(x + 1))"
   ]
  },
  {
   "cell_type": "code",
   "execution_count": 5,
   "metadata": {},
   "outputs": [],
   "source": [
    "from sklearn.preprocessing import MinMaxScaler\n",
    "\n",
    "# Initialize a scaler, then apply it to the features\n",
    "scaler = MinMaxScaler() # default=(0, 1)\n",
    "numerical = ['age', 'education-num', 'capital-gain', 'capital-loss', 'hours-per-week']\n",
    "\n",
    "features_log_minmax_transform = pd.DataFrame(data = features_log_transformed)\n",
    "features_log_minmax_transform[numerical] = scaler.fit_transform(features_log_transformed[numerical])"
   ]
  },
  {
   "cell_type": "code",
   "execution_count": 6,
   "metadata": {},
   "outputs": [],
   "source": [
    "features_final = pd.get_dummies(features_log_minmax_transform)\n",
    "\n",
    "# Encode the 'income_raw' data to numerical values\n",
    "income = income_raw.map({\n",
    "    '<=50K': '0',\n",
    "    '>50K': '1'\n",
    "})\n",
    "\n",
    "# Print the number of features after one-hot encoding\n",
    "encoded = list(features_final.columns)"
   ]
  },
  {
   "cell_type": "code",
   "execution_count": 7,
   "metadata": {},
   "outputs": [],
   "source": [
    "# Import train_test_split\n",
    "from sklearn.model_selection import train_test_split\n",
    "\n",
    "# Split the 'features' and 'income' data into training and testing sets\n",
    "X_train, X_test, y_train, y_test = train_test_split(features_final, \n",
    "                                                    income, \n",
    "                                                    test_size = 0.2, \n",
    "                                                    random_state = 0)"
   ]
  },
  {
   "cell_type": "code",
   "execution_count": 8,
   "metadata": {},
   "outputs": [],
   "source": [
    "from sklearn.ensemble import GradientBoostingClassifier\n",
    "\n",
    "from sklearn.metrics import confusion_matrix, accuracy_score"
   ]
  },
  {
   "cell_type": "code",
   "execution_count": 42,
   "metadata": {},
   "outputs": [
    {
     "name": "stdout",
     "output_type": "stream",
     "text": [
      "      Iter       Train Loss   Remaining Time \n",
      "         1           0.8658           12.77s\n",
      "         2           0.7786           12.23s\n",
      "         3           0.7324           12.01s\n",
      "         4           0.7064           11.91s\n",
      "         5           0.6806           11.91s\n",
      "         6           0.6659           11.76s\n",
      "         7           0.6516           11.67s\n",
      "         8           0.6398           11.54s\n",
      "         9           0.6315           11.56s\n",
      "        10           0.6244           11.53s\n",
      "        20           0.5900           10.59s\n",
      "        30           0.5769            9.82s\n",
      "        40           0.5687            9.32s\n",
      "        50           0.5594            8.76s\n",
      "        60           0.5560            8.20s\n",
      "        70           0.5498            7.67s\n",
      "        80           0.5477            7.13s\n",
      "        90           0.5440            6.62s\n",
      "       100           0.5410            6.09s\n",
      "       200           0.5170            1.01s\n"
     ]
    },
    {
     "data": {
      "text/plain": [
       "0.8717523493642897"
      ]
     },
     "execution_count": 42,
     "metadata": {},
     "output_type": "execute_result"
    }
   ],
   "source": [
    "clf = GradientBoostingClassifier(\n",
    "    learning_rate=0.45, \n",
    "    verbose=1, \n",
    "    n_estimators=220,\n",
    "    min_samples_split=20,\n",
    "    min_samples_leaf=20\n",
    ")\n",
    "\n",
    "clf.fit(X_train, y_train)\n",
    "\n",
    "predictions = clf.predict(X_test)\n",
    "\n",
    "accuracy_score(y_test, predictions)"
   ]
  },
  {
   "cell_type": "code",
   "execution_count": 44,
   "metadata": {},
   "outputs": [
    {
     "name": "stdout",
     "output_type": "stream",
     "text": [
      "      Iter       Train Loss   Remaining Time \n",
      "         1           0.8658           11.49s\n",
      "         2           0.7786           10.97s\n",
      "         3           0.7324           10.94s\n",
      "         4           0.7064           10.80s\n",
      "         5           0.6806           10.63s\n",
      "         6           0.6659           10.51s\n",
      "         7           0.6516           10.48s\n",
      "         8           0.6398           10.37s\n",
      "         9           0.6315           10.46s\n",
      "        10           0.6244           10.38s\n",
      "        20           0.5900            9.53s\n",
      "        30           0.5769            8.92s\n",
      "        40           0.5687            8.35s\n",
      "        50           0.5594            7.79s\n",
      "        60           0.5560            7.22s\n",
      "        70           0.5498            6.69s\n",
      "        80           0.5477            6.14s\n",
      "        90           0.5440            5.61s\n",
      "       100           0.5410            5.08s\n",
      "       200           0.5170            0.00s\n"
     ]
    },
    {
     "data": {
      "text/plain": [
       "0.8718629076838033"
      ]
     },
     "execution_count": 44,
     "metadata": {},
     "output_type": "execute_result"
    }
   ],
   "source": [
    "clf = GradientBoostingClassifier(\n",
    "    learning_rate=0.45, \n",
    "    verbose=1, \n",
    "    n_estimators=200,\n",
    "    min_samples_split=20,\n",
    "    min_samples_leaf=20\n",
    ")\n",
    "\n",
    "clf.fit(X_train, y_train)\n",
    "\n",
    "predictions = clf.predict(X_test)\n",
    "\n",
    "accuracy_score(y_test, predictions)"
   ]
  },
  {
   "cell_type": "code",
   "execution_count": 47,
   "metadata": {},
   "outputs": [
    {
     "name": "stdout",
     "output_type": "stream",
     "text": [
      "      Iter       Train Loss   Remaining Time \n",
      "         1           0.8658           10.08s\n",
      "         2           0.7786            9.96s\n",
      "         3           0.7324            9.74s\n",
      "         4           0.7064            9.65s\n",
      "         5           0.6806            9.68s\n",
      "         6           0.6659            9.55s\n",
      "         7           0.6516            9.50s\n",
      "         8           0.6398            9.44s\n",
      "         9           0.6315            9.38s\n",
      "        10           0.6244            9.30s\n",
      "        20           0.5900            8.55s\n",
      "        30           0.5769            7.97s\n",
      "        40           0.5687            7.34s\n",
      "        50           0.5594            6.73s\n",
      "        60           0.5560            6.16s\n",
      "        70           0.5498            5.63s\n",
      "        80           0.5477            5.09s\n",
      "        90           0.5440            4.57s\n",
      "       100           0.5410            4.05s\n"
     ]
    },
    {
     "data": {
      "text/plain": [
       "0.8727473742399116"
      ]
     },
     "execution_count": 47,
     "metadata": {},
     "output_type": "execute_result"
    }
   ],
   "source": [
    "clf = GradientBoostingClassifier(\n",
    "    learning_rate=0.45, \n",
    "    verbose=1, \n",
    "    n_estimators=180,\n",
    "    min_samples_split=20,\n",
    "    min_samples_leaf=20\n",
    ")\n",
    "\n",
    "clf.fit(X_train, y_train)\n",
    "\n",
    "predictions = clf.predict(X_test)\n",
    "\n",
    "accuracy_score(y_test, predictions)"
   ]
  },
  {
   "cell_type": "code",
   "execution_count": null,
   "metadata": {},
   "outputs": [],
   "source": []
  }
 ],
 "metadata": {
  "kernelspec": {
   "display_name": "Python 3",
   "language": "python",
   "name": "python3"
  },
  "language_info": {
   "codemirror_mode": {
    "name": "ipython",
    "version": 3
   },
   "file_extension": ".py",
   "mimetype": "text/x-python",
   "name": "python",
   "nbconvert_exporter": "python",
   "pygments_lexer": "ipython3",
   "version": "3.8.3"
  }
 },
 "nbformat": 4,
 "nbformat_minor": 4
}

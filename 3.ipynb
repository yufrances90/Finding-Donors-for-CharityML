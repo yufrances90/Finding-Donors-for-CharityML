{
 "cells": [
  {
   "cell_type": "code",
   "execution_count": 1,
   "metadata": {},
   "outputs": [],
   "source": [
    "import numpy as np\n",
    "import pandas as pd\n",
    "from time import time\n",
    "from IPython.display import display # Allows the use of display() for DataFrames\n",
    "\n",
    "# Import supplementary visualization code visuals.py\n",
    "import visuals as vs\n",
    "\n",
    "# Pretty display for notebooks\n",
    "%matplotlib inline"
   ]
  },
  {
   "cell_type": "code",
   "execution_count": 2,
   "metadata": {},
   "outputs": [],
   "source": [
    "# Load the Census dataset\n",
    "data = pd.read_csv(\"census.csv\")"
   ]
  },
  {
   "cell_type": "code",
   "execution_count": 3,
   "metadata": {},
   "outputs": [],
   "source": [
    "# Split the data into features and target label\n",
    "income_raw = data['income']\n",
    "features_raw = data.drop('income', axis = 1)"
   ]
  },
  {
   "cell_type": "code",
   "execution_count": 4,
   "metadata": {},
   "outputs": [],
   "source": [
    "skewed = ['capital-gain', 'capital-loss']\n",
    "features_log_transformed = pd.DataFrame(data = features_raw)\n",
    "features_log_transformed[skewed] = features_raw[skewed].apply(lambda x: np.log(x + 1))"
   ]
  },
  {
   "cell_type": "code",
   "execution_count": 5,
   "metadata": {},
   "outputs": [],
   "source": [
    "from sklearn.preprocessing import MinMaxScaler\n",
    "\n",
    "# Initialize a scaler, then apply it to the features\n",
    "scaler = MinMaxScaler() # default=(0, 1)\n",
    "numerical = ['age', 'education-num', 'capital-gain', 'capital-loss', 'hours-per-week']\n",
    "\n",
    "features_log_minmax_transform = pd.DataFrame(data = features_log_transformed)\n",
    "features_log_minmax_transform[numerical] = scaler.fit_transform(features_log_transformed[numerical])"
   ]
  },
  {
   "cell_type": "code",
   "execution_count": 6,
   "metadata": {},
   "outputs": [],
   "source": [
    "features_final = pd.get_dummies(features_log_minmax_transform)\n",
    "\n",
    "# Encode the 'income_raw' data to numerical values\n",
    "income = income_raw.map({\n",
    "    '<=50K': '0',\n",
    "    '>50K': '1'\n",
    "})\n",
    "\n",
    "# Print the number of features after one-hot encoding\n",
    "encoded = list(features_final.columns)"
   ]
  },
  {
   "cell_type": "code",
   "execution_count": 7,
   "metadata": {},
   "outputs": [],
   "source": [
    "# Import train_test_split\n",
    "from sklearn.model_selection import train_test_split\n",
    "\n",
    "# Split the 'features' and 'income' data into training and testing sets\n",
    "X_train, X_test, y_train, y_test = train_test_split(features_final, \n",
    "                                                    income, \n",
    "                                                    test_size = 0.2, \n",
    "                                                    random_state = 0)"
   ]
  },
  {
   "cell_type": "code",
   "execution_count": 8,
   "metadata": {},
   "outputs": [],
   "source": [
    "from sklearn.ensemble import GradientBoostingClassifier\n",
    "\n",
    "from sklearn.metrics import confusion_matrix, accuracy_score"
   ]
  },
  {
   "cell_type": "code",
   "execution_count": 9,
   "metadata": {},
   "outputs": [
    {
     "name": "stdout",
     "output_type": "stream",
     "text": [
      "      Iter       Train Loss   Remaining Time \n",
      "         1           1.0505            5.48s\n",
      "         2           0.9965            5.25s\n",
      "         3           0.9538            5.14s\n",
      "         4           0.9180            5.10s\n",
      "         5           0.8885            5.10s\n",
      "         6           0.8625            5.21s\n",
      "         7           0.8403            5.10s\n",
      "         8           0.8214            5.06s\n",
      "         9           0.8053            4.98s\n",
      "        10           0.7907            4.89s\n",
      "        20           0.7051            4.25s\n",
      "        30           0.6638            3.70s\n",
      "        40           0.6403            3.15s\n",
      "        50           0.6244            2.62s\n",
      "        60           0.6146            2.09s\n",
      "        70           0.6064            1.56s\n",
      "        80           0.5985            1.04s\n",
      "        90           0.5936            0.52s\n",
      "       100           0.5888            0.00s\n"
     ]
    },
    {
     "data": {
      "text/plain": [
       "0.8630182421227197"
      ]
     },
     "execution_count": 9,
     "metadata": {},
     "output_type": "execute_result"
    }
   ],
   "source": [
    "clf = GradientBoostingClassifier(random_state=0, verbose=1)\n",
    "\n",
    "clf.fit(X_train, y_train)\n",
    "\n",
    "predictions = clf.predict(X_test)\n",
    "\n",
    "accuracy_score(y_test, predictions)"
   ]
  },
  {
   "cell_type": "code",
   "execution_count": 10,
   "metadata": {},
   "outputs": [
    {
     "name": "stdout",
     "output_type": "stream",
     "text": [
      "      Iter       Train Loss   Remaining Time \n",
      "         1           1.0505           16.52s\n",
      "         2           0.9965           16.06s\n",
      "         3           0.9538           16.37s\n",
      "         4           0.9180           16.34s\n",
      "         5           0.8885           16.11s\n",
      "         6           0.8625           15.98s\n",
      "         7           0.8403           15.86s\n",
      "         8           0.8214           15.81s\n",
      "         9           0.8053           15.78s\n",
      "        10           0.7907           15.64s\n",
      "        20           0.7051           14.85s\n",
      "        30           0.6638           14.20s\n",
      "        40           0.6403           13.59s\n",
      "        50           0.6244           13.03s\n",
      "        60           0.6146           12.48s\n",
      "        70           0.6064           11.94s\n",
      "        80           0.5985           11.37s\n",
      "        90           0.5936           10.84s\n",
      "       100           0.5888           10.28s\n",
      "       200           0.5627            5.04s\n",
      "       300           0.5480            0.00s\n"
     ]
    },
    {
     "data": {
      "text/plain": [
       "0.8698728579325594"
      ]
     },
     "execution_count": 10,
     "metadata": {},
     "output_type": "execute_result"
    }
   ],
   "source": [
    "clf = GradientBoostingClassifier(n_estimators=300, random_state=0, verbose=1)\n",
    "\n",
    "clf.fit(X_train, y_train)\n",
    "\n",
    "predictions = clf.predict(X_test)\n",
    "\n",
    "accuracy_score(y_test, predictions)"
   ]
  },
  {
   "cell_type": "code",
   "execution_count": 11,
   "metadata": {},
   "outputs": [
    {
     "name": "stdout",
     "output_type": "stream",
     "text": [
      "      Iter       Train Loss   Remaining Time \n",
      "         1           0.8480           16.12s\n",
      "         2           0.7636           16.00s\n",
      "         3           0.7218           16.30s\n",
      "         4           0.6868           15.80s\n",
      "         5           0.6682           15.57s\n",
      "         6           0.6547           15.28s\n",
      "         7           0.6430           15.19s\n",
      "         8           0.6354           15.04s\n",
      "         9           0.6301           14.98s\n",
      "        10           0.6199           14.81s\n",
      "        20           0.5919           14.26s\n",
      "        30           0.5719           13.71s\n",
      "        40           0.5616           13.06s\n",
      "        50           0.5539           12.58s\n",
      "        60           0.5478           11.99s\n",
      "        70           0.5439           11.51s\n",
      "        80           0.5395           10.99s\n",
      "        90           0.5350           10.49s\n",
      "       100           0.5309            9.97s\n",
      "       200           0.5052            4.95s\n",
      "       300           0.4875            0.00s\n"
     ]
    },
    {
     "data": {
      "text/plain": [
       "0.8688778330569376"
      ]
     },
     "execution_count": 11,
     "metadata": {},
     "output_type": "execute_result"
    }
   ],
   "source": [
    "clf = GradientBoostingClassifier(n_estimators=300, learning_rate=0.5, random_state=0, verbose=1)\n",
    "\n",
    "clf.fit(X_train, y_train)\n",
    "\n",
    "predictions = clf.predict(X_test)\n",
    "\n",
    "accuracy_score(y_test, predictions)"
   ]
  },
  {
   "cell_type": "code",
   "execution_count": 12,
   "metadata": {},
   "outputs": [
    {
     "name": "stdout",
     "output_type": "stream",
     "text": [
      "      Iter       Train Loss   Remaining Time \n",
      "         1           0.9320           15.43s\n",
      "         2           0.8442           14.97s\n",
      "         3           0.7910           14.93s\n",
      "         4           0.7557           14.97s\n",
      "         5           0.7304           14.92s\n",
      "         6           0.7091           14.82s\n",
      "         7           0.6939           14.63s\n",
      "         8           0.6780           14.61s\n",
      "         9           0.6673           14.63s\n",
      "        10           0.6593           14.56s\n",
      "        20           0.6119           14.09s\n",
      "        30           0.5930           13.50s\n",
      "        40           0.5828           12.88s\n",
      "        50           0.5722           12.45s\n",
      "        60           0.5645           11.95s\n",
      "        70           0.5578           11.43s\n",
      "        80           0.5532           10.92s\n",
      "        90           0.5491           10.41s\n",
      "       100           0.5458            9.92s\n",
      "       200           0.5229            4.91s\n",
      "       300           0.5072            0.00s\n"
     ]
    },
    {
     "data": {
      "text/plain": [
       "0.8710889994472084"
      ]
     },
     "execution_count": 12,
     "metadata": {},
     "output_type": "execute_result"
    }
   ],
   "source": [
    "clf = GradientBoostingClassifier(n_estimators=300, learning_rate=0.3, random_state=0, verbose=1)\n",
    "\n",
    "clf.fit(X_train, y_train)\n",
    "\n",
    "predictions = clf.predict(X_test)\n",
    "\n",
    "accuracy_score(y_test, predictions)"
   ]
  },
  {
   "cell_type": "code",
   "execution_count": 13,
   "metadata": {},
   "outputs": [
    {
     "name": "stdout",
     "output_type": "stream",
     "text": [
      "      Iter       Train Loss   Remaining Time \n",
      "         1           0.9320           32.81s\n",
      "         2           0.8442           32.07s\n",
      "         3           0.7910           32.57s\n",
      "         4           0.7557           32.92s\n",
      "         5           0.7304           32.16s\n",
      "         6           0.7091           31.56s\n",
      "         7           0.6939           31.24s\n",
      "         8           0.6780           30.72s\n",
      "         9           0.6673           30.68s\n",
      "        10           0.6593           30.37s\n",
      "        20           0.6119           29.38s\n",
      "        30           0.5930           28.88s\n",
      "        40           0.5828           28.33s\n",
      "        50           0.5722           27.75s\n",
      "        60           0.5645           27.12s\n",
      "        70           0.5578           26.51s\n",
      "        80           0.5532           26.04s\n",
      "        90           0.5491           25.46s\n",
      "       100           0.5458           24.90s\n",
      "       200           0.5229           19.81s\n",
      "       300           0.5072           14.85s\n",
      "       400           0.4961            9.89s\n",
      "       500           0.4863            4.95s\n",
      "       600           0.4779            0.00s\n"
     ]
    },
    {
     "data": {
      "text/plain": [
       "0.871420674405749"
      ]
     },
     "execution_count": 13,
     "metadata": {},
     "output_type": "execute_result"
    }
   ],
   "source": [
    "clf = GradientBoostingClassifier(n_estimators=600, learning_rate=0.3, random_state=0, verbose=1)\n",
    "\n",
    "clf.fit(X_train, y_train)\n",
    "\n",
    "predictions = clf.predict(X_test)\n",
    "\n",
    "accuracy_score(y_test, predictions)"
   ]
  },
  {
   "cell_type": "code",
   "execution_count": 14,
   "metadata": {},
   "outputs": [
    {
     "name": "stdout",
     "output_type": "stream",
     "text": [
      "      Iter       Train Loss   Remaining Time \n",
      "         1           0.9320           53.19s\n",
      "         2           0.8442           51.40s\n",
      "         3           0.7910           50.62s\n",
      "         4           0.7557           50.57s\n",
      "         5           0.7304           50.56s\n",
      "         6           0.7091           50.00s\n",
      "         7           0.6939           49.95s\n",
      "         8           0.6780           49.60s\n",
      "         9           0.6673           49.33s\n",
      "        10           0.6593           49.31s\n",
      "        20           0.6119           48.46s\n",
      "        30           0.5930           48.48s\n",
      "        40           0.5828           47.73s\n",
      "        50           0.5722           47.17s\n",
      "        60           0.5645           46.58s\n",
      "        70           0.5578           46.05s\n",
      "        80           0.5532           45.69s\n",
      "        90           0.5491           45.08s\n",
      "       100           0.5458           44.77s\n",
      "       200           0.5229           39.55s\n",
      "       300           0.5072           34.53s\n",
      "       400           0.4961           29.67s\n",
      "       500           0.4863           24.69s\n",
      "       600           0.4779           19.73s\n",
      "       700           0.4706           14.80s\n",
      "       800           0.4637            9.88s\n",
      "       900           0.4573            4.94s\n",
      "      1000           0.4513            0.00s\n"
     ]
    },
    {
     "data": {
      "text/plain": [
       "0.8684355997788834"
      ]
     },
     "execution_count": 14,
     "metadata": {},
     "output_type": "execute_result"
    }
   ],
   "source": [
    "clf = GradientBoostingClassifier(n_estimators=1000, learning_rate=0.3, random_state=0, verbose=1)\n",
    "\n",
    "clf.fit(X_train, y_train)\n",
    "\n",
    "predictions = clf.predict(X_test)\n",
    "\n",
    "accuracy_score(y_test, predictions)"
   ]
  },
  {
   "cell_type": "code",
   "execution_count": 15,
   "metadata": {},
   "outputs": [
    {
     "name": "stdout",
     "output_type": "stream",
     "text": [
      "      Iter       Train Loss   Remaining Time \n",
      "         1           0.9320           43.11s\n",
      "         2           0.8442           40.20s\n",
      "         3           0.7910           38.51s\n",
      "         4           0.7557           38.48s\n",
      "         5           0.7304           38.22s\n",
      "         6           0.7091           38.10s\n",
      "         7           0.6939           37.60s\n",
      "         8           0.6780           37.20s\n",
      "         9           0.6673           37.37s\n",
      "        10           0.6593           37.05s\n",
      "        20           0.6119           36.33s\n",
      "        30           0.5930           36.03s\n",
      "        40           0.5828           35.42s\n",
      "        50           0.5722           34.90s\n",
      "        60           0.5645           34.50s\n",
      "        70           0.5578           33.83s\n",
      "        80           0.5532           33.27s\n",
      "        90           0.5491           32.83s\n",
      "       100           0.5458           32.34s\n",
      "       200           0.5229           27.26s\n",
      "       300           0.5072           22.31s\n",
      "       400           0.4961           17.30s\n",
      "       500           0.4863           12.35s\n",
      "       600           0.4779            7.41s\n",
      "       700           0.4706            2.47s\n"
     ]
    },
    {
     "data": {
      "text/plain": [
       "0.8679933665008291"
      ]
     },
     "execution_count": 15,
     "metadata": {},
     "output_type": "execute_result"
    }
   ],
   "source": [
    "clf = GradientBoostingClassifier(n_estimators=750, learning_rate=0.3, random_state=0, verbose=1)\n",
    "\n",
    "clf.fit(X_train, y_train)\n",
    "\n",
    "predictions = clf.predict(X_test)\n",
    "\n",
    "accuracy_score(y_test, predictions)"
   ]
  },
  {
   "cell_type": "code",
   "execution_count": 16,
   "metadata": {},
   "outputs": [
    {
     "name": "stdout",
     "output_type": "stream",
     "text": [
      "      Iter       Train Loss   Remaining Time \n",
      "         1           0.8963           58.19s\n",
      "         2           0.7955           58.07s\n",
      "         3           0.7311           58.46s\n",
      "         4           0.6909           58.31s\n",
      "         5           0.6624           58.30s\n",
      "         6           0.6419           58.05s\n",
      "         7           0.6267           58.27s\n",
      "         8           0.6096           58.38s\n",
      "         9           0.6006           58.73s\n",
      "        10           0.5914           58.60s\n",
      "        20           0.5447           57.56s\n",
      "        30           0.5236           56.35s\n",
      "        40           0.5101           55.13s\n",
      "        50           0.5008           53.74s\n",
      "        60           0.4917           52.88s\n",
      "        70           0.4832           51.70s\n",
      "        80           0.4718           50.56s\n",
      "        90           0.4649           49.46s\n",
      "       100           0.4577           48.48s\n",
      "       200           0.3832           39.51s\n",
      "       300 6362344998730141212596291711107270659070669887999111860759751681428970012672.0000           29.83s\n",
      "       400 6362344998730141212596291711107270659070669887999111860759751681428970012672.0000           19.82s\n",
      "       500 6362344998730141212596291711107270659070669887999111860759751681428970012672.0000            9.89s\n",
      "       600 6362344998730141212596291711107270659070669887999111860759751681428970012672.0000            0.00s\n"
     ]
    },
    {
     "data": {
      "text/plain": [
       "0.8591487009397457"
      ]
     },
     "execution_count": 16,
     "metadata": {},
     "output_type": "execute_result"
    }
   ],
   "source": [
    "clf = GradientBoostingClassifier(\n",
    "    n_estimators=600, \n",
    "    learning_rate=0.3, \n",
    "    random_state=0,\n",
    "    max_depth=6,\n",
    "    verbose=1\n",
    ")\n",
    "\n",
    "clf.fit(X_train, y_train)\n",
    "\n",
    "predictions = clf.predict(X_test)\n",
    "\n",
    "accuracy_score(y_test, predictions)"
   ]
  },
  {
   "cell_type": "code",
   "execution_count": 17,
   "metadata": {},
   "outputs": [
    {
     "name": "stdout",
     "output_type": "stream",
     "text": [
      "      Iter       Train Loss   Remaining Time \n",
      "         1           0.9188           44.24s\n",
      "         2           0.8248           41.66s\n",
      "         3           0.7661           40.83s\n",
      "         4           0.7265           40.38s\n",
      "         5           0.6985           40.17s\n",
      "         6           0.6784           40.05s\n",
      "         7           0.6628           39.89s\n",
      "         8           0.6493           40.23s\n",
      "         9           0.6397           40.43s\n",
      "        10           0.6320           40.27s\n",
      "        20           0.5878           39.18s\n",
      "        30           0.5654           38.10s\n",
      "        40           0.5531           37.34s\n",
      "        50           0.5448           36.57s\n",
      "        60           0.5394           35.97s\n",
      "        70           0.5330           35.23s\n",
      "        80           0.5286           34.51s\n",
      "        90           0.5226           33.84s\n",
      "       100           0.5190           33.17s\n",
      "       200           0.4868           26.39s\n",
      "       300           0.4627           19.75s\n",
      "       400           0.4448           13.12s\n",
      "       500           0.4275            6.56s\n",
      "       600           0.4125            0.00s\n"
     ]
    },
    {
     "data": {
      "text/plain": [
       "0.8655610834715313"
      ]
     },
     "execution_count": 17,
     "metadata": {},
     "output_type": "execute_result"
    }
   ],
   "source": [
    "clf = GradientBoostingClassifier(\n",
    "    n_estimators=600, \n",
    "    learning_rate=0.3, \n",
    "    random_state=0,\n",
    "    max_depth=4,\n",
    "    verbose=1\n",
    ")\n",
    "\n",
    "clf.fit(X_train, y_train)\n",
    "\n",
    "predictions = clf.predict(X_test)\n",
    "\n",
    "accuracy_score(y_test, predictions)"
   ]
  },
  {
   "cell_type": "code",
   "execution_count": 18,
   "metadata": {},
   "outputs": [
    {
     "name": "stdout",
     "output_type": "stream",
     "text": [
      "      Iter       Train Loss   Remaining Time \n",
      "         1           0.9320           31.65s\n",
      "         2           0.8443           31.37s\n",
      "         3           0.7910           30.84s\n",
      "         4           0.7557           30.80s\n",
      "         5           0.7304           30.77s\n",
      "         6           0.7091           30.61s\n",
      "         7           0.6939           30.57s\n",
      "         8           0.6781           30.37s\n",
      "         9           0.6674           30.32s\n",
      "        10           0.6594           30.10s\n",
      "        20           0.6122           29.10s\n",
      "        30           0.5929           28.94s\n",
      "        40           0.5813           28.57s\n",
      "        50           0.5730           28.02s\n",
      "        60           0.5651           27.32s\n",
      "        70           0.5615           26.69s\n",
      "        80           0.5559           26.19s\n",
      "        90           0.5517           25.68s\n",
      "       100           0.5491           25.14s\n",
      "       200           0.5246           19.86s\n",
      "       300           0.5098           14.83s\n",
      "       400           0.4978            9.87s\n",
      "       500           0.4884            4.94s\n",
      "       600           0.4803            0.00s\n"
     ]
    },
    {
     "data": {
      "text/plain": [
       "0.8685461580983969"
      ]
     },
     "execution_count": 18,
     "metadata": {},
     "output_type": "execute_result"
    }
   ],
   "source": [
    "clf = GradientBoostingClassifier(\n",
    "    n_estimators=600, \n",
    "    learning_rate=0.3, \n",
    "    random_state=0,\n",
    "    min_samples_leaf=5,\n",
    "    verbose=1\n",
    ")\n",
    "\n",
    "clf.fit(X_train, y_train)\n",
    "\n",
    "predictions = clf.predict(X_test)\n",
    "\n",
    "accuracy_score(y_test, predictions)"
   ]
  },
  {
   "cell_type": "code",
   "execution_count": 19,
   "metadata": {},
   "outputs": [
    {
     "name": "stdout",
     "output_type": "stream",
     "text": [
      "      Iter       Train Loss   Remaining Time \n",
      "         1           0.9320           32.28s\n",
      "         2           0.8442           32.89s\n",
      "         3           0.7910           31.58s\n",
      "         4           0.7557           31.20s\n",
      "         5           0.7304           30.96s\n",
      "         6           0.7091           30.58s\n",
      "         7           0.6939           30.50s\n",
      "         8           0.6781           30.18s\n",
      "         9           0.6674           30.20s\n",
      "        10           0.6593           30.03s\n",
      "        20           0.6128           29.27s\n",
      "        30           0.5945           28.78s\n",
      "        40           0.5841           28.11s\n",
      "        50           0.5740           27.52s\n",
      "        60           0.5656           26.99s\n",
      "        70           0.5607           26.45s\n",
      "        80           0.5543           25.89s\n",
      "        90           0.5495           25.38s\n",
      "       100           0.5474           24.82s\n",
      "       200           0.5239           19.68s\n",
      "       300           0.5089           14.73s\n",
      "       400           0.4978            9.81s\n",
      "       500           0.4879            4.91s\n",
      "       600           0.4797            0.00s\n"
     ]
    },
    {
     "data": {
      "text/plain": [
       "0.8685461580983969"
      ]
     },
     "execution_count": 19,
     "metadata": {},
     "output_type": "execute_result"
    }
   ],
   "source": [
    "clf = GradientBoostingClassifier(\n",
    "    n_estimators=600, \n",
    "    learning_rate=0.3, \n",
    "    random_state=0,\n",
    "    min_samples_leaf=3,\n",
    "    verbose=1\n",
    ")\n",
    "\n",
    "clf.fit(X_train, y_train)\n",
    "\n",
    "predictions = clf.predict(X_test)\n",
    "\n",
    "accuracy_score(y_test, predictions)"
   ]
  },
  {
   "cell_type": "code",
   "execution_count": 20,
   "metadata": {},
   "outputs": [
    {
     "name": "stdout",
     "output_type": "stream",
     "text": [
      "      Iter       Train Loss   Remaining Time \n",
      "         1           0.7708           32.81s\n",
      "         2           0.7107           32.95s\n",
      "         3           0.6701           31.76s\n",
      "         4           0.6444           31.35s\n",
      "         5           0.6177           30.95s\n",
      "         6           0.6016           30.49s\n",
      "         7           0.5901           30.47s\n",
      "         8           0.5798           30.05s\n",
      "         9           0.5708           30.04s\n",
      "        10           0.5621           29.80s\n",
      "        20           0.5251           28.86s\n",
      "        30           0.5102           28.47s\n",
      "        40           0.5030           27.85s\n",
      "        50           0.4940           27.28s\n",
      "        60           0.4884           26.98s\n",
      "        70           0.4824           26.46s\n",
      "        80           0.4781           25.88s\n",
      "        90           0.4745           25.30s\n",
      "       100           0.4712           24.77s\n",
      "       200           0.4490           19.75s\n",
      "       300           0.4340           14.85s\n",
      "       400           0.4221            9.86s\n",
      "       500           0.4133            4.93s\n",
      "       600           0.4051            0.00s\n"
     ]
    },
    {
     "data": {
      "text/plain": [
       "0.867330016583748"
      ]
     },
     "execution_count": 20,
     "metadata": {},
     "output_type": "execute_result"
    }
   ],
   "source": [
    "clf = GradientBoostingClassifier(\n",
    "    n_estimators=600, \n",
    "    learning_rate=0.3, \n",
    "    random_state=0,\n",
    "    loss='exponential',\n",
    "    verbose=1\n",
    ")\n",
    "\n",
    "clf.fit(X_train, y_train)\n",
    "\n",
    "predictions = clf.predict(X_test)\n",
    "\n",
    "accuracy_score(y_test, predictions)"
   ]
  },
  {
   "cell_type": "code",
   "execution_count": 21,
   "metadata": {},
   "outputs": [
    {
     "name": "stdout",
     "output_type": "stream",
     "text": [
      "      Iter       Train Loss   Remaining Time \n",
      "         1           0.8963           21.58s\n",
      "         2           0.7955           20.72s\n",
      "         3           0.7311           20.12s\n",
      "         4           0.6909           19.72s\n",
      "         5           0.6624           19.52s\n",
      "         6           0.6419           19.20s\n",
      "         7           0.6267           19.11s\n",
      "         8           0.6096           18.99s\n",
      "         9           0.6006           18.84s\n",
      "        10           0.5914           18.70s\n",
      "        20           0.5447           17.89s\n",
      "        30           0.5236           16.84s\n",
      "        40           0.5101           15.77s\n",
      "        50           0.5008           14.75s\n",
      "        60           0.4917           13.78s\n",
      "        70           0.4832           12.74s\n",
      "        80           0.4718           11.76s\n",
      "        90           0.4649           10.76s\n",
      "       100           0.4577            9.75s\n",
      "       200           0.3832            0.00s\n"
     ]
    },
    {
     "data": {
      "text/plain": [
       "0.8676616915422886"
      ]
     },
     "execution_count": 21,
     "metadata": {},
     "output_type": "execute_result"
    }
   ],
   "source": [
    "clf = GradientBoostingClassifier(\n",
    "    n_estimators=200, \n",
    "    learning_rate=0.3, \n",
    "    random_state=0,\n",
    "    max_depth=6,\n",
    "    verbose=1\n",
    ")\n",
    "\n",
    "clf.fit(X_train, y_train)\n",
    "\n",
    "predictions = clf.predict(X_test)\n",
    "\n",
    "accuracy_score(y_test, predictions)"
   ]
  },
  {
   "cell_type": "code",
   "execution_count": 22,
   "metadata": {},
   "outputs": [
    {
     "name": "stdout",
     "output_type": "stream",
     "text": [
      "      Iter       Train Loss   Remaining Time \n",
      "         1           0.8963           23.08s\n",
      "         2           0.7956           23.39s\n",
      "         3           0.7313           22.27s\n",
      "         4           0.6912           21.26s\n",
      "         5           0.6618           20.81s\n",
      "         6           0.6397           20.44s\n",
      "         7           0.6218           20.17s\n",
      "         8           0.6096           19.98s\n",
      "         9           0.6000           19.83s\n",
      "        10           0.5929           19.53s\n",
      "        20           0.5456           18.34s\n",
      "        30           0.5256           17.26s\n",
      "        40           0.5134           16.04s\n",
      "        50           0.5021           14.96s\n",
      "        60           0.4936           13.91s\n",
      "        70           0.4845           12.92s\n",
      "        80           0.4770           11.95s\n",
      "        90           0.4685           10.93s\n",
      "       100           0.4635            9.93s\n",
      "       200           0.4216            0.00s\n"
     ]
    },
    {
     "data": {
      "text/plain": [
       "0.8644555002763958"
      ]
     },
     "execution_count": 22,
     "metadata": {},
     "output_type": "execute_result"
    }
   ],
   "source": [
    "clf = GradientBoostingClassifier(\n",
    "    n_estimators=200, \n",
    "    learning_rate=0.3, \n",
    "    random_state=0,\n",
    "    max_depth=6,\n",
    "    min_samples_leaf=3,\n",
    "    verbose=1\n",
    ")\n",
    "\n",
    "clf.fit(X_train, y_train)\n",
    "\n",
    "predictions = clf.predict(X_test)\n",
    "\n",
    "accuracy_score(y_test, predictions)"
   ]
  },
  {
   "cell_type": "code",
   "execution_count": 23,
   "metadata": {},
   "outputs": [
    {
     "name": "stdout",
     "output_type": "stream",
     "text": [
      "      Iter       Train Loss   Remaining Time \n",
      "         1           0.8968           22.71s\n",
      "         2           0.7962           23.08s\n",
      "         3           0.7325           22.35s\n",
      "         4           0.6924           21.52s\n",
      "         5           0.6648           21.05s\n",
      "         6           0.6428           20.55s\n",
      "         7           0.6280           20.20s\n",
      "         8           0.6168           19.94s\n",
      "         9           0.6069           19.67s\n",
      "        10           0.5990           19.53s\n",
      "        20           0.5508           18.41s\n",
      "        30           0.5319           17.23s\n",
      "        40           0.5214           16.04s\n",
      "        50           0.5124           14.95s\n",
      "        60           0.5038           13.89s\n",
      "        70           0.4967           12.88s\n",
      "        80           0.4886           11.90s\n",
      "        90           0.4811           10.92s\n",
      "       100           0.4746            9.92s\n",
      "       200           1.0718            0.00s\n"
     ]
    },
    {
     "data": {
      "text/plain": [
       "0.8660033167495854"
      ]
     },
     "execution_count": 23,
     "metadata": {},
     "output_type": "execute_result"
    }
   ],
   "source": [
    "clf = GradientBoostingClassifier(\n",
    "    n_estimators=200, \n",
    "    learning_rate=0.3, \n",
    "    random_state=0,\n",
    "    max_depth=6,\n",
    "    min_samples_leaf=10,\n",
    "    verbose=1\n",
    ")\n",
    "\n",
    "clf.fit(X_train, y_train)\n",
    "\n",
    "predictions = clf.predict(X_test)\n",
    "\n",
    "accuracy_score(y_test, predictions)"
   ]
  },
  {
   "cell_type": "code",
   "execution_count": 24,
   "metadata": {},
   "outputs": [
    {
     "name": "stdout",
     "output_type": "stream",
     "text": [
      "      Iter       Train Loss   Remaining Time \n",
      "         1           0.8979           22.81s\n",
      "         2           0.7976           23.35s\n",
      "         3           0.7346           22.15s\n",
      "         4           0.6947           21.09s\n",
      "         5           0.6651           20.65s\n",
      "         6           0.6449           20.21s\n",
      "         7           0.6299           19.99s\n",
      "         8           0.6180           19.80s\n",
      "         9           0.6091           19.55s\n",
      "        10           0.5991           19.25s\n",
      "        20           0.5571           18.06s\n",
      "        30           0.5379           17.06s\n",
      "        40           0.5276           15.87s\n",
      "        50           0.5197           14.80s\n",
      "        60           0.5103           13.78s\n",
      "        70           0.5032           12.78s\n",
      "        80           0.4970           11.78s\n",
      "        90           0.4920           10.78s\n",
      "       100           0.4866            9.78s\n",
      "       200           0.4395            0.00s\n"
     ]
    },
    {
     "data": {
      "text/plain": [
       "0.8682144831398563"
      ]
     },
     "execution_count": 24,
     "metadata": {},
     "output_type": "execute_result"
    }
   ],
   "source": [
    "clf = GradientBoostingClassifier(\n",
    "    n_estimators=200, \n",
    "    learning_rate=0.3, \n",
    "    random_state=0,\n",
    "    max_depth=6,\n",
    "    min_samples_leaf=20,\n",
    "    verbose=1\n",
    ")\n",
    "\n",
    "clf.fit(X_train, y_train)\n",
    "\n",
    "predictions = clf.predict(X_test)\n",
    "\n",
    "accuracy_score(y_test, predictions)"
   ]
  },
  {
   "cell_type": "code",
   "execution_count": 25,
   "metadata": {},
   "outputs": [
    {
     "name": "stdout",
     "output_type": "stream",
     "text": [
      "      Iter       Train Loss   Remaining Time \n",
      "         1           0.8979           34.13s\n",
      "         2           0.7976           33.95s\n",
      "         3           0.7346           34.16s\n",
      "         4           0.6947           33.38s\n",
      "         5           0.6651           33.29s\n",
      "         6           0.6449           32.39s\n",
      "         7           0.6299           31.86s\n",
      "         8           0.6180           31.33s\n",
      "         9           0.6091           30.98s\n",
      "        10           0.5991           30.53s\n",
      "        20           0.5571           29.17s\n",
      "        30           0.5379           27.61s\n",
      "        40           0.5276           26.25s\n",
      "        50           0.5197           25.00s\n",
      "        60           0.5103           23.91s\n",
      "        70           0.5032           22.85s\n",
      "        80           0.4970           21.90s\n",
      "        90           0.4920           20.82s\n",
      "       100           0.4866           19.79s\n",
      "       200           0.4395            9.81s\n",
      "       300           0.4044            0.00s\n"
     ]
    },
    {
     "data": {
      "text/plain": [
       "0.86489773355445"
      ]
     },
     "execution_count": 25,
     "metadata": {},
     "output_type": "execute_result"
    }
   ],
   "source": [
    "clf = GradientBoostingClassifier(\n",
    "    n_estimators=300, \n",
    "    learning_rate=0.3, \n",
    "    random_state=0,\n",
    "    max_depth=6,\n",
    "    min_samples_leaf=20,\n",
    "    verbose=1\n",
    ")\n",
    "\n",
    "clf.fit(X_train, y_train)\n",
    "\n",
    "predictions = clf.predict(X_test)\n",
    "\n",
    "accuracy_score(y_test, predictions)"
   ]
  },
  {
   "cell_type": "code",
   "execution_count": 26,
   "metadata": {},
   "outputs": [
    {
     "name": "stdout",
     "output_type": "stream",
     "text": [
      "      Iter       Train Loss   Remaining Time \n",
      "         1           0.8979           28.18s\n",
      "         2           0.7976           28.04s\n",
      "         3           0.7346           27.75s\n",
      "         4           0.6947           26.61s\n",
      "         5           0.6651           26.06s\n",
      "         6           0.6449           25.50s\n",
      "         7           0.6299           25.22s\n",
      "         8           0.6180           24.96s\n",
      "         9           0.6091           24.66s\n",
      "        10           0.5991           24.41s\n",
      "        20           0.5571           22.90s\n",
      "        30           0.5379           22.00s\n",
      "        40           0.5276           20.84s\n",
      "        50           0.5197           19.70s\n",
      "        60           0.5103           18.68s\n",
      "        70           0.5032           17.66s\n",
      "        80           0.4970           16.66s\n",
      "        90           0.4920           15.65s\n",
      "       100           0.4866           14.65s\n",
      "       200           0.4395            4.89s\n"
     ]
    },
    {
     "data": {
      "text/plain": [
       "0.8665561083471531"
      ]
     },
     "execution_count": 26,
     "metadata": {},
     "output_type": "execute_result"
    }
   ],
   "source": [
    "clf = GradientBoostingClassifier(\n",
    "    n_estimators=250, \n",
    "    learning_rate=0.3, \n",
    "    random_state=0,\n",
    "    max_depth=6,\n",
    "    min_samples_leaf=20,\n",
    "    verbose=1\n",
    ")\n",
    "\n",
    "clf.fit(X_train, y_train)\n",
    "\n",
    "predictions = clf.predict(X_test)\n",
    "\n",
    "accuracy_score(y_test, predictions)"
   ]
  },
  {
   "cell_type": "code",
   "execution_count": 27,
   "metadata": {},
   "outputs": [
    {
     "name": "stdout",
     "output_type": "stream",
     "text": [
      "      Iter       Train Loss   Remaining Time \n",
      "         1           0.8984           22.56s\n",
      "         2           0.7983           22.59s\n",
      "         3           0.7355           22.14s\n",
      "         4           0.6953           21.25s\n",
      "         5           0.6670           20.69s\n",
      "         6           0.6456           20.30s\n",
      "         7           0.6313           20.02s\n",
      "         8           0.6202           19.78s\n",
      "         9           0.6116           19.56s\n",
      "        10           0.6041           19.42s\n",
      "        20           0.5581           18.17s\n",
      "        30           0.5400           17.10s\n",
      "        40           0.5288           15.90s\n",
      "        50           0.5201           14.88s\n",
      "        60           0.5133           13.82s\n",
      "        70           0.5041           12.85s\n",
      "        80           0.4996           11.83s\n",
      "        90           0.4951           10.82s\n",
      "       100           0.4897            9.83s\n",
      "       200           0.4506            0.00s\n"
     ]
    },
    {
     "data": {
      "text/plain": [
       "0.866334991708126"
      ]
     },
     "execution_count": 27,
     "metadata": {},
     "output_type": "execute_result"
    }
   ],
   "source": [
    "clf = GradientBoostingClassifier(\n",
    "    n_estimators=200, \n",
    "    learning_rate=0.3, \n",
    "    random_state=0,\n",
    "    max_depth=6,\n",
    "    min_samples_leaf=30,\n",
    "    verbose=1\n",
    ")\n",
    "\n",
    "clf.fit(X_train, y_train)\n",
    "\n",
    "predictions = clf.predict(X_test)\n",
    "\n",
    "accuracy_score(y_test, predictions)"
   ]
  },
  {
   "cell_type": "code",
   "execution_count": 28,
   "metadata": {},
   "outputs": [
    {
     "name": "stdout",
     "output_type": "stream",
     "text": [
      "      Iter       Train Loss   Remaining Time \n",
      "         1           0.8980           23.29s\n",
      "         2           0.7977           22.84s\n",
      "         3           0.7351           22.16s\n",
      "         4           0.6950           21.20s\n",
      "         5           0.6656           20.78s\n",
      "         6           0.6444           20.42s\n",
      "         7           0.6305           20.09s\n",
      "         8           0.6194           19.87s\n",
      "         9           0.6081           19.58s\n",
      "        10           0.6008           19.60s\n",
      "        20           0.5550           18.50s\n",
      "        30           0.5379           17.26s\n",
      "        40           0.5269           16.11s\n",
      "        50           0.5186           14.95s\n",
      "        60           0.5105           13.90s\n",
      "        70           0.5057           12.85s\n",
      "        80           0.5000           11.84s\n",
      "        90           0.4956           10.82s\n",
      "       100           0.4893            9.83s\n",
      "       200           0.4464            0.00s\n"
     ]
    },
    {
     "data": {
      "text/plain": [
       "0.869983416252073"
      ]
     },
     "execution_count": 28,
     "metadata": {},
     "output_type": "execute_result"
    }
   ],
   "source": [
    "clf = GradientBoostingClassifier(\n",
    "    n_estimators=200, \n",
    "    learning_rate=0.3, \n",
    "    random_state=0,\n",
    "    max_depth=6,\n",
    "    min_samples_leaf=25,\n",
    "    verbose=1\n",
    ")\n",
    "\n",
    "clf.fit(X_train, y_train)\n",
    "\n",
    "predictions = clf.predict(X_test)\n",
    "\n",
    "accuracy_score(y_test, predictions)"
   ]
  },
  {
   "cell_type": "code",
   "execution_count": null,
   "metadata": {},
   "outputs": [],
   "source": [
    "clf = GradientBoostingClassifier(\n",
    "    n_estimators=200, \n",
    "    learning_rate=0.3, \n",
    "    random_state=0,\n",
    "    max_depth=5,\n",
    "    min_samples_leaf=25,\n",
    "    verbose=1\n",
    ")\n",
    "\n",
    "clf.fit(X_train, y_train)\n",
    "\n",
    "predictions = clf.predict(X_test)\n",
    "\n",
    "accuracy_score(y_test, predictions)"
   ]
  }
 ],
 "metadata": {
  "kernelspec": {
   "display_name": "Python 3",
   "language": "python",
   "name": "python3"
  },
  "language_info": {
   "codemirror_mode": {
    "name": "ipython",
    "version": 3
   },
   "file_extension": ".py",
   "mimetype": "text/x-python",
   "name": "python",
   "nbconvert_exporter": "python",
   "pygments_lexer": "ipython3",
   "version": "3.8.3"
  }
 },
 "nbformat": 4,
 "nbformat_minor": 4
}
